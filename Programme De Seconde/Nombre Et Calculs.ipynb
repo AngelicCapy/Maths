{
 "cells": [
  {
   "cell_type": "markdown",
   "metadata": {},
   "source": [
    "<h1><center> Nombre Et Calculs</center></h1>\n",
    "<br>\n",
    "<br>\n",
    "\n",
    "### $𝐍 →$ Entier Naturels $[0,1,2,...,+∞[$ \n",
    "\n",
    "### $𝐙 →$ Entier Relatifs $]-∞,0,+∞[$\n",
    "\n",
    "### $𝐃 →$ Nombres Décimaux $]-∞,-0.1,0,0.1,+∞[$\n",
    "\n",
    "### $𝑸 →$ Nombres Rationnels $]-∞,\\frac{-1}{3},0,\\frac{1}{3},+∞[$\n",
    "\n",
    "### $𝐑 →$ Nombres Réels $]-∞,0,⎷2,π,+∞[$\n",
    "\n",
    "### $𝐂 →$ Nombres Complexe\n",
    "\n",
    "### $\\in$  $→$ Appartient à (exemple: $10 \\in 𝐍$)\n",
    "\n",
    "### $∉$ $→$ N'appartient pas à (exemple: $-10 ∉ 𝐍$)\n",
    "\n",
    "### $\\subset$ $→$ Contient Comme élément (exemple: $-10 ⊂ 𝐃$)\n",
    "\n",
    "### $\\subseteq$ $→$ Ne Contient Pas Comme élément (exemple: $0.5 ⊆ 𝐙$)\n",
    "\n",
    "### $∀$ $→$ Pour Tout (exemple: $∀ x \\in 𝐍, x > -1$)\n",
    "\n",
    "### $\\cup$ $→$ Union (Selectionne tout A et B,$ A ∪ B$)\n",
    "\n",
    "### $\\cap$ $→$ Intersection (Selection la zone en commun de A et B,$ A ∩ B$)"
   ]
  }
 ],
 "metadata": {
  "kernelspec": {
   "display_name": "Python 3.10.4 64-bit",
   "language": "python",
   "name": "python3"
  },
  "language_info": {
   "name": "python",
   "version": "3.10.4"
  },
  "orig_nbformat": 4,
  "vscode": {
   "interpreter": {
    "hash": "916dbcbb3f70747c44a77c7bcd40155683ae19c65e1c03b4aa3499c5328201f1"
   }
  }
 },
 "nbformat": 4,
 "nbformat_minor": 2
}
